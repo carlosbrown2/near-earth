{
 "cells": [
  {
   "cell_type": "code",
   "execution_count": 47,
   "metadata": {},
   "outputs": [],
   "source": [
    "import pandas as pd\n",
    "import matplotlib.pyplot as plt"
   ]
  },
  {
   "cell_type": "code",
   "execution_count": 3,
   "metadata": {},
   "outputs": [
    {
     "name": "stderr",
     "output_type": "stream",
     "text": [
      "/Users/carlosbrown/Library/Python/3.8/lib/python/site-packages/IPython/core/interactiveshell.py:3146: DtypeWarning: Columns (2) have mixed types.Specify dtype option on import or set low_memory=False.\n",
      "  has_raised = await self.run_ast_nodes(code_ast.body, cell_name,\n"
     ]
    }
   ],
   "source": [
    "df = pd.read_csv('sbdb_query_results.csv')"
   ]
  },
  {
   "cell_type": "code",
   "execution_count": 5,
   "metadata": {},
   "outputs": [
    {
     "data": {
      "text/html": [
       "<div>\n",
       "<style scoped>\n",
       "    .dataframe tbody tr th:only-of-type {\n",
       "        vertical-align: middle;\n",
       "    }\n",
       "\n",
       "    .dataframe tbody tr th {\n",
       "        vertical-align: top;\n",
       "    }\n",
       "\n",
       "    .dataframe thead th {\n",
       "        text-align: right;\n",
       "    }\n",
       "</style>\n",
       "<table border=\"1\" class=\"dataframe\">\n",
       "  <thead>\n",
       "    <tr style=\"text-align: right;\">\n",
       "      <th></th>\n",
       "      <th>spkid</th>\n",
       "      <th>full_name</th>\n",
       "      <th>pdes</th>\n",
       "      <th>neo</th>\n",
       "      <th>pha</th>\n",
       "      <th>sats</th>\n",
       "      <th>H</th>\n",
       "      <th>G</th>\n",
       "      <th>diameter</th>\n",
       "      <th>per</th>\n",
       "      <th>moid</th>\n",
       "      <th>class</th>\n",
       "      <th>first_obs</th>\n",
       "      <th>last_obs</th>\n",
       "      <th>n_obs_used</th>\n",
       "      <th>n_del_obs_used</th>\n",
       "      <th>n_dop_obs_used</th>\n",
       "    </tr>\n",
       "  </thead>\n",
       "  <tbody>\n",
       "    <tr>\n",
       "      <th>0</th>\n",
       "      <td>2000001</td>\n",
       "      <td>1 Ceres (A801 AA)</td>\n",
       "      <td>1</td>\n",
       "      <td>N</td>\n",
       "      <td>N</td>\n",
       "      <td>0</td>\n",
       "      <td>3.33</td>\n",
       "      <td>0.12</td>\n",
       "      <td>939.400</td>\n",
       "      <td>1680.0</td>\n",
       "      <td>1.58</td>\n",
       "      <td>MBA</td>\n",
       "      <td>1995-01-05</td>\n",
       "      <td>2021-01-28</td>\n",
       "      <td>1075.0</td>\n",
       "      <td>60.0</td>\n",
       "      <td>0.0</td>\n",
       "    </tr>\n",
       "    <tr>\n",
       "      <th>1</th>\n",
       "      <td>2000002</td>\n",
       "      <td>2 Pallas (A802 FA)</td>\n",
       "      <td>2</td>\n",
       "      <td>N</td>\n",
       "      <td>N</td>\n",
       "      <td>0</td>\n",
       "      <td>4.12</td>\n",
       "      <td>0.11</td>\n",
       "      <td>513.000</td>\n",
       "      <td>1680.0</td>\n",
       "      <td>1.23</td>\n",
       "      <td>MBA</td>\n",
       "      <td>1804-08-27</td>\n",
       "      <td>2022-10-06</td>\n",
       "      <td>9049.0</td>\n",
       "      <td>NaN</td>\n",
       "      <td>NaN</td>\n",
       "    </tr>\n",
       "    <tr>\n",
       "      <th>2</th>\n",
       "      <td>2000003</td>\n",
       "      <td>3 Juno (A804 RA)</td>\n",
       "      <td>3</td>\n",
       "      <td>N</td>\n",
       "      <td>N</td>\n",
       "      <td>0</td>\n",
       "      <td>5.15</td>\n",
       "      <td>0.32</td>\n",
       "      <td>246.596</td>\n",
       "      <td>1590.0</td>\n",
       "      <td>1.04</td>\n",
       "      <td>MBA</td>\n",
       "      <td>1804-10-17</td>\n",
       "      <td>2023-01-22</td>\n",
       "      <td>7445.0</td>\n",
       "      <td>NaN</td>\n",
       "      <td>NaN</td>\n",
       "    </tr>\n",
       "    <tr>\n",
       "      <th>3</th>\n",
       "      <td>2000004</td>\n",
       "      <td>4 Vesta (A807 FA)</td>\n",
       "      <td>4</td>\n",
       "      <td>N</td>\n",
       "      <td>N</td>\n",
       "      <td>0</td>\n",
       "      <td>3.22</td>\n",
       "      <td>0.32</td>\n",
       "      <td>525.400</td>\n",
       "      <td>1330.0</td>\n",
       "      <td>1.14</td>\n",
       "      <td>MBA</td>\n",
       "      <td>1950-09-23</td>\n",
       "      <td>2021-03-17</td>\n",
       "      <td>9451.0</td>\n",
       "      <td>2977.0</td>\n",
       "      <td>0.0</td>\n",
       "    </tr>\n",
       "    <tr>\n",
       "      <th>4</th>\n",
       "      <td>2000005</td>\n",
       "      <td>5 Astraea (A845 XA)</td>\n",
       "      <td>5</td>\n",
       "      <td>N</td>\n",
       "      <td>N</td>\n",
       "      <td>0</td>\n",
       "      <td>7.00</td>\n",
       "      <td>NaN</td>\n",
       "      <td>106.699</td>\n",
       "      <td>1510.0</td>\n",
       "      <td>1.11</td>\n",
       "      <td>MBA</td>\n",
       "      <td>1845-12-15</td>\n",
       "      <td>2023-01-07</td>\n",
       "      <td>3454.0</td>\n",
       "      <td>NaN</td>\n",
       "      <td>NaN</td>\n",
       "    </tr>\n",
       "  </tbody>\n",
       "</table>\n",
       "</div>"
      ],
      "text/plain": [
       "     spkid                 full_name pdes neo pha  sats     H     G  diameter  \\\n",
       "0  2000001         1 Ceres (A801 AA)    1   N   N     0  3.33  0.12   939.400   \n",
       "1  2000002        2 Pallas (A802 FA)    2   N   N     0  4.12  0.11   513.000   \n",
       "2  2000003          3 Juno (A804 RA)    3   N   N     0  5.15  0.32   246.596   \n",
       "3  2000004         4 Vesta (A807 FA)    4   N   N     0  3.22  0.32   525.400   \n",
       "4  2000005       5 Astraea (A845 XA)    5   N   N     0  7.00   NaN   106.699   \n",
       "\n",
       "      per  moid class   first_obs    last_obs  n_obs_used  n_del_obs_used  \\\n",
       "0  1680.0  1.58   MBA  1995-01-05  2021-01-28      1075.0            60.0   \n",
       "1  1680.0  1.23   MBA  1804-08-27  2022-10-06      9049.0             NaN   \n",
       "2  1590.0  1.04   MBA  1804-10-17  2023-01-22      7445.0             NaN   \n",
       "3  1330.0  1.14   MBA  1950-09-23  2021-03-17      9451.0          2977.0   \n",
       "4  1510.0  1.11   MBA  1845-12-15  2023-01-07      3454.0             NaN   \n",
       "\n",
       "   n_dop_obs_used  \n",
       "0             0.0  \n",
       "1             NaN  \n",
       "2             NaN  \n",
       "3             0.0  \n",
       "4             NaN  "
      ]
     },
     "execution_count": 5,
     "metadata": {},
     "output_type": "execute_result"
    }
   ],
   "source": [
    "df.head()"
   ]
  },
  {
   "cell_type": "code",
   "execution_count": 7,
   "metadata": {},
   "outputs": [
    {
     "data": {
      "text/plain": [
       "N    0.998167\n",
       "Y    0.001833\n",
       "Name: pha, dtype: float64"
      ]
     },
     "execution_count": 7,
     "metadata": {},
     "output_type": "execute_result"
    }
   ],
   "source": [
    "df.pha.value_counts(normalize=True)"
   ]
  },
  {
   "cell_type": "code",
   "execution_count": 45,
   "metadata": {},
   "outputs": [
    {
     "data": {
      "text/plain": [
       "0    2266\n",
       "1      49\n",
       "2       3\n",
       "Name: sats, dtype: int64"
      ]
     },
     "execution_count": 45,
     "metadata": {},
     "output_type": "execute_result"
    }
   ],
   "source": [
    "df[df.pha == \"Y\"].sats.value_counts(normalize=False)"
   ]
  },
  {
   "cell_type": "code",
   "execution_count": 17,
   "metadata": {},
   "outputs": [
    {
     "data": {
      "text/plain": [
       "MBA    88.755486\n",
       "OMB     3.061915\n",
       "IMB     2.139493\n",
       "MCA     1.893939\n",
       "APO     1.388668\n",
       "TJN     0.977339\n",
       "AMO     0.886781\n",
       "TNO     0.332730\n",
       "ATE     0.193627\n",
       "PAR     0.138788\n",
       "JFc     0.059638\n",
       "CEN     0.054052\n",
       "COM     0.052714\n",
       "HYP     0.036271\n",
       "AST     0.009913\n",
       "HTC     0.007868\n",
       "ETc     0.005507\n",
       "IEO     0.002203\n",
       "CTc     0.001495\n",
       "JFC     0.001338\n",
       "HYA     0.000236\n",
       "Name: class, dtype: float64"
      ]
     },
     "execution_count": 17,
     "metadata": {},
     "output_type": "execute_result"
    }
   ],
   "source": [
    "df['class'].value_counts(normalize=True) * 100"
   ]
  },
  {
   "cell_type": "code",
   "execution_count": 48,
   "metadata": {},
   "outputs": [
    {
     "data": {
      "text/plain": [
       "Text(0.5, 1.0, 'MOID Dist.')"
      ]
     },
     "execution_count": 48,
     "metadata": {},
     "output_type": "execute_result"
    },
    {
     "data": {
      "image/png": "[encoded data removed]",
      "text/plain": [
       "<Figure size 432x288 with 1 Axes>"
      ]
     },
     "metadata": {
      "needs_background": "light"
     },
     "output_type": "display_data"
    }
   ],
   "source": [
    "df[df.moid < 10].moid.plot(kind='hist')\n",
    "plt.title('MOID Dist.')"
   ]
  },
  {
   "cell_type": "code",
   "execution_count": 49,
   "metadata": {},
   "outputs": [
    {
     "data": {
      "text/plain": [
       "Text(0.5, 1.0, 'Diameter Plot')"
      ]
     },
     "execution_count": 49,
     "metadata": {},
     "output_type": "execute_result"
    },
    {
     "data": {
      "image/png": "[encoded data removed]",
      "text/plain": [
       "<Figure size 432x288 with 1 Axes>"
      ]
     },
     "metadata": {
      "needs_background": "light"
     },
     "output_type": "display_data"
    }
   ],
   "source": [
    "df[df.diameter < 50].diameter.plot(kind='hist')\n",
    "plt.title(\"Diameter Plot\")"
   ]
  },
  {
   "cell_type": "code",
   "execution_count": 28,
   "metadata": {},
   "outputs": [
    {
     "name": "stdout",
     "output_type": "stream",
     "text": [
      "Mean period (y) : 4253.98\n",
      "Std period (y) : 2073937.96\n"
     ]
    }
   ],
   "source": [
    "print(f\"Mean period (y) : {round(df.per.mean() / 365.25, 2)}\")\n",
    "print(f\"Std period (y) : {round(df.std().per / 365.25, 2)}\")"
   ]
  },
  {
   "cell_type": "code",
   "execution_count": 34,
   "metadata": {},
   "outputs": [],
   "source": [
    "df['per_year'] = df.per / 365.25"
   ]
  },
  {
   "cell_type": "code",
   "execution_count": 36,
   "metadata": {},
   "outputs": [
    {
     "data": {
      "text/plain": [
       "<AxesSubplot:ylabel='Frequency'>"
      ]
     },
     "execution_count": 36,
     "metadata": {},
     "output_type": "execute_result"
    },
    {
     "data": {
      "image/png": "[encoded data removed]",
      "text/plain": [
       "<Figure size 432x288 with 1 Axes>"
      ]
     },
     "metadata": {
      "needs_background": "light"
     },
     "output_type": "display_data"
    }
   ],
   "source": [
    "df[df.per_year < 0.5].per_year.plot(kind='hist')"
   ]
  },
  {
   "cell_type": "code",
   "execution_count": 38,
   "metadata": {},
   "outputs": [
    {
     "data": {
      "text/plain": [
       "0.31485284052019163"
      ]
     },
     "execution_count": 38,
     "metadata": {},
     "output_type": "execute_result"
    }
   ],
   "source": [
    "df.per.min() / 365.25"
   ]
  },
  {
   "cell_type": "code",
   "execution_count": null,
   "metadata": {},
   "outputs": [],
   "source": []
  }
 ],
 "metadata": {
  "kernelspec": {
   "display_name": "Python 3",
   "language": "python",
   "name": "python3"
  },
  "language_info": {
   "codemirror_mode": {
    "name": "ipython",
    "version": 3
   },
   "file_extension": ".py",
   "mimetype": "text/x-python",
   "name": "python",
   "nbconvert_exporter": "python",
   "pygments_lexer": "ipython3",
   "version": "3.8.2"
  },
  "toc": {
   "base_numbering": 1,
   "nav_menu": {},
   "number_sections": true,
   "sideBar": true,
   "skip_h1_title": false,
   "title_cell": "Table of Contents",
   "title_sidebar": "Contents",
   "toc_cell": false,
   "toc_position": {},
   "toc_section_display": true,
   "toc_window_display": false
  }
 },
 "nbformat": 4,
 "nbformat_minor": 4
}
